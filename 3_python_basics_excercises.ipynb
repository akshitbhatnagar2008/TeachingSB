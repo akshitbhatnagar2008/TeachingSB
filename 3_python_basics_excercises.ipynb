{
 "cells": [
  {
   "cell_type": "markdown",
   "metadata": {},
   "source": [
    "### Excercises"
   ]
  },
  {
   "cell_type": "code",
   "execution_count": null,
   "metadata": {
    "collapsed": false
   },
   "outputs": [],
   "source": [
    "# (1) Compute the average of a list of numbers. use list comprehension.\n",
    "L=[23,32,121,22,1222.23,5]"
   ]
  },
  {
   "cell_type": "code",
   "execution_count": null,
   "metadata": {
    "collapsed": false,
    "scrolled": false
   },
   "outputs": [],
   "source": [
    "sum(L)/len(L)"
   ]
  },
  {
   "cell_type": "code",
   "execution_count": null,
   "metadata": {
    "collapsed": false
   },
   "outputs": [],
   "source": [
    "# (2) Compute the number of times each word occurs in the following text.\n",
    "# Transform all words to lower case. Output a list of\n",
    "#  word,count pairs, one pair per line sorted from highest to lowest count."
   ]
  },
  {
   "cell_type": "code",
   "execution_count": null,
   "metadata": {
    "collapsed": true
   },
   "outputs": [],
   "source": [
    "import operator"
   ]
  },
  {
   "cell_type": "code",
   "execution_count": null,
   "metadata": {
    "collapsed": false
   },
   "outputs": [],
   "source": [
    "Text=\"\"\"\n",
    "bands which have connected them with another, and to assume among the\n",
    "powers of the earth, the separate and equal station to which the Laws\n",
    "of Nature and of Nature's God entitle them, a decent respect to the\n",
    "opinions of mankind requires that they should declare the causes which\n",
    "impel them to the separation.  We hold these truths to be\n",
    "self-evident, that all men are created equal, that they are endowed by\n",
    "their Creator with certain unalienable Rights, that among these are\n",
    "Life, Liberty and the pursuit of Happiness.--That to secure these\n",
    "rights, Governments are instituted among Men, deriving their just\n",
    "powers from the consent of the governed, --That whenever any Form of\n",
    "Government becomes destructive of these ends, it is the Right of the\n",
    "People to alter or to abolish it, and to institute new Government,\n",
    "laying its foundation on such principles and organizing its powers in\n",
    "such form, as to them shall seem most likely to effect their Safety\n",
    "and Happiness. Prudence, indeed, will dictate that Governments long\n",
    "established should not be changed for light and transient causes; and\n",
    "accordingly all experience hath shewn, that mankind are more disposed\n",
    "to suffer, while evils are sufferable, than to right themselves by\n",
    "abolishing the forms to which they are accustomed. But when a long\n",
    "train of abuses and usurpations, pursuing invariably the same Object\n",
    "evinces a design to reduce them under absolute Despotism, it is their\n",
    "right, it is their duty, to throw off such Government, and to provide\n",
    "new Guards for their future security.--Such has been the patient\n",
    "sufferance of these Colonies; and such is now the necessity which\n",
    "constrains them to alter their former Systems of Government. The\n",
    "history of the present King of Great Britain is a history of repeated\n",
    "injuries and usurpations, all having in direct object the\n",
    "establishment of an absolute Tyranny over these States. To prove this,\n",
    "let Facts be submitted to a candid world.\n",
    "\"\"\"\n",
    "\n",
    "# First, we replace the punctuations marks with spaces\n",
    "for char in '-.,;\\n':\n",
    "    Text=Text.replace(char,' ')\n",
    "\n",
    "#Text=Text.lower()    \n",
    "#L=Text.split(' ')\n",
    "\n",
    "word=Text.split(' ')\n",
    "word=[w.lower() for w in word if w !='']\n",
    "\n",
    "d={}\n",
    "#for l in word:\n",
    " #   d[l]=0\n",
    "\n",
    "#for l in L:\n",
    "    #d[l]+=1\n",
    "\n",
    "for w in word:\n",
    "    if w in d.keys():\n",
    "        d[w]+=1\n",
    "    else:\n",
    "        d[w]=1\n",
    "\n",
    "sorted_d = sorted(d.items(), key=operator.itemgetter(1),reverse=1)        \n",
    "sorted_d        \n",
    "#pairs =list(d.items())\n",
    "#pairs\n",
    "#[(key,value) for (key,value) in sorted(d.values(),reverse=1)]"
   ]
  },
  {
   "cell_type": "code",
   "execution_count": null,
   "metadata": {
    "collapsed": false
   },
   "outputs": [],
   "source": [
    "# (3) same as 2, but instead of single words, count the number of occurances of **word pairs** i.e.\n",
    "# ('bands','which'),('which','have'),..."
   ]
  },
  {
   "cell_type": "code",
   "execution_count": null,
   "metadata": {
    "collapsed": false
   },
   "outputs": [],
   "source": [
    "lword=len(word)"
   ]
  },
  {
   "cell_type": "code",
   "execution_count": null,
   "metadata": {
    "collapsed": false
   },
   "outputs": [],
   "source": [
    "L=[]\n",
    "for i in range(lword):\n",
    "    if i < lword-1:\n",
    "        L.append((word[i],word[i+1]))\n",
    "\n",
    "dict={}        \n",
    "for p in L:\n",
    "    if p in dict.keys():\n",
    "        dict[p]+=1\n",
    "    else:\n",
    "        dict[p]=1\n",
    "\n",
    "sorted_dict = sorted(dict.items(), key=operator.itemgetter(1),reverse=1)        \n",
    "sorted_dict                    "
   ]
  },
  {
   "cell_type": "markdown",
   "metadata": {},
   "source": [
    "(4) For the list `l =  [ 6, -5, 3, -2, 0, 8, -9, -7 ]`, return the numbers which are greater than the average (of these numbers)"
   ]
  },
  {
   "cell_type": "code",
   "execution_count": 1,
   "metadata": {
    "collapsed": false
   },
   "outputs": [
    {
     "data": {
      "text/plain": [
       "[6, 3, 0, 8]"
      ]
     },
     "execution_count": 1,
     "metadata": {},
     "output_type": "execute_result"
    }
   ],
   "source": [
    "l =  [ 6, -5, 3, -2, 0, 8, -9, -7 ]\n",
    "[i for i in l if i > sum(l)/len(l)]"
   ]
  },
  {
   "cell_type": "markdown",
   "metadata": {},
   "source": [
    "(5) for the tuples (2, 5, 3, 7, 10, 20, 54, 89) and (15, 16, 3, 37, 54, 21, 20, 5) return a sorted tuple that contains\n",
    "only the elements common to both the tuples (use sets)"
   ]
  },
  {
   "cell_type": "code",
   "execution_count": null,
   "metadata": {
    "collapsed": false,
    "scrolled": true
   },
   "outputs": [],
   "source": [
    "t1=(2, 5, 3, 7, 10, 20, 54, 89) \n",
    "t2= (15, 16, 3, 37, 54, 21, 20, 5)\n"
   ]
  },
  {
   "cell_type": "code",
   "execution_count": null,
   "metadata": {
    "collapsed": false
   },
   "outputs": [],
   "source": [
    "s1 = set(t1)\n",
    "s2 = set(t2)\n",
    "t=tuple(sorted(s1.intersection(s2)))\n",
    "print t"
   ]
  },
  {
   "cell_type": "markdown",
   "metadata": {},
   "source": [
    "(6) calculate the average word length for the text\n",
    "\n",
    "> TEXT =\n",
    "> On a dark desert highway, cool wind in my hair\n",
    "> Warm smell of colitas, rising up through the air\n",
    "> Up ahead in the distance, I saw a shimmering light\n",
    "> My head grew heavy and my sight grew dim\n",
    "> I had to stop for the night\n",
    "> There she stood in the doorway;\n",
    "> I heard the mission bell\n",
    "> And I was thinking to myself,\n",
    "> \"This could be Heaven or this could be Hell\"\n",
    "> Then she lit up a candle and she showed me the way\n",
    "> \n",
    "\n",
    "Average word length is the sum of all the lengths of the word tokens in the text, divided by the number of word tokens\n"
   ]
  },
  {
   "cell_type": "code",
   "execution_count": null,
   "metadata": {
    "collapsed": false
   },
   "outputs": [],
   "source": [
    "TEXT = \"\"\"On a dark desert highway, cool wind in my hair Warm smell of colitas, rising up through the air Up ahead in the distance, I saw a shimmering light My head grew heavy and my sight grew dim I had to stop for the night There she stood in the doorway; I heard the mission bell And I was thinking to myself, \"This could be Heaven or this could be Hell\" Then she lit up a candle and she showed me the way\"\"\"\n",
    "\n",
    "for char in ',;\"':\n",
    "    TEXT=TEXT.replace(char,'')\n",
    "\n",
    "#print TEXT    \n",
    "    \n",
    "text=TEXT.split(' ')\n",
    "\n",
    "#text)\n",
    "\n",
    "sum=0\n",
    "for l in text:\n",
    "    sum = sum + len(l)\n",
    "\n",
    "print sum/len(text)"
   ]
  },
  {
   "cell_type": "markdown",
   "metadata": {},
   "source": [
    "7) Using the same text as in the last one, remove all punctuation and output the words in sorted alphabetical order. Save this output as a CSV file with each word separated from the other by the delimiter(comma)."
   ]
  },
  {
   "cell_type": "code",
   "execution_count": null,
   "metadata": {
    "collapsed": false
   },
   "outputs": [],
   "source": [
    "for char in ',;\"':\n",
    "    TEXT = TEXT.replace(char,'')\n",
    "\n",
    "text1 = TEXT.upper().split(' ')\n",
    "print sorted(text1)\n",
    "\n",
    "file = open('text1.csv','w')\n",
    "file.write(str(','.join(text1)))\n",
    "file.close()"
   ]
  },
  {
   "cell_type": "markdown",
   "metadata": {},
   "source": [
    "(8) Read the text from the above separated csv file and return a dictionary of (letter:count) pair\n",
    "that counts the number of times each letter appears in that line."
   ]
  },
  {
   "cell_type": "code",
   "execution_count": null,
   "metadata": {
    "collapsed": true
   },
   "outputs": [],
   "source": [
    "file1 = open('text1.csv','r')\n",
    "line = file1.readline()\n",
    "#line\n",
    "\n",
    "dict={}\n",
    "\n",
    "for l in line:\n",
    "    if l != ',':\n",
    "            if l in dict.keys():\n",
    "                dict[l]+=1\n",
    "            else:\n",
    "                dict[l]=1\n",
    "\n",
    "dict                "
   ]
  },
  {
   "cell_type": "code",
   "execution_count": null,
   "metadata": {
    "collapsed": false
   },
   "outputs": [],
   "source": [
    "#(9) Take as an input an array of integers, and return true if the array contains a 5 immediately after another 5 \n",
    "#somewhere.\n",
    "A=[1,5,1,6,5,3,5,2]\n",
    "B=[1,2,3,4,5,5,6,7,8,9]"
   ]
  },
  {
   "cell_type": "code",
   "execution_count": null,
   "metadata": {
    "collapsed": false,
    "scrolled": true
   },
   "outputs": [],
   "source": [
    "L=input()"
   ]
  },
  {
   "cell_type": "code",
   "execution_count": null,
   "metadata": {
    "collapsed": false
   },
   "outputs": [],
   "source": [
    "#print L\n",
    "for i in range(len(L)-1):\n",
    "    if (L[i+1]==5) and (L[i]==5):\n",
    "        print True\n",
    "        break\n",
    "    "
   ]
  },
  {
   "cell_type": "markdown",
   "metadata": {},
   "source": [
    "(10) Write  a program that takes in a positive number (in some variable, say `i`) and computes the sum of all the number\n",
    "between 0 and that number (inclusive). \n",
    "\n",
    "* Do it using a for loop\n",
    "* Do it in one line using the function `sum` and list comprehension."
   ]
  },
  {
   "cell_type": "code",
   "execution_count": null,
   "metadata": {
    "collapsed": false
   },
   "outputs": [],
   "source": [
    "i=input()\n",
    "sum=0\n",
    "for k in range(i+1):\n",
    "    sum+=k\n",
    "print sum    "
   ]
  },
  {
   "cell_type": "code",
   "execution_count": null,
   "metadata": {
    "collapsed": false,
    "scrolled": true
   },
   "outputs": [],
   "source": [
    "sum([i for i in range(input()+1)])"
   ]
  },
  {
   "cell_type": "code",
   "execution_count": null,
   "metadata": {
    "collapsed": false
   },
   "outputs": [],
   "source": [
    "#(11) for the text in file BrownNews.txt (~/DSE200/data/NLTK/BrownNews.txt), \n",
    "#find the distribution of the second letter in each word. "
   ]
  },
  {
   "cell_type": "code",
   "execution_count": null,
   "metadata": {
    "collapsed": false
   },
   "outputs": [],
   "source": [
    "file =open('/Users/bhatnagarakshit10/Documents/DSE/DSE200-notebooks/data/NLTK/BrownNews.txt','r')\n",
    "\n",
    "fileread = file.read()\n",
    "L=fileread.split(' ')\n",
    "lis=[]\n",
    "for i in L:\n",
    "    #Avoid counting the puntuations and single letters\n",
    "    if len(i)>1 and (i[1] != \"'\" and i[1] != \"`\"):\n",
    "        lis.append(i[1])\n",
    "\n",
    "dict={}\n",
    "for l in lis:\n",
    "    if l in dict.keys():\n",
    "        dict[l]+=1\n",
    "    else:\n",
    "        dict[l]=1\n",
    "\n",
    "print dict        \n",
    "#L[1][1]"
   ]
  },
  {
   "cell_type": "markdown",
   "metadata": {},
   "source": [
    "(12) write a program to find solutions of the 8 queen problem.\n",
    ">The eight queens problem is the problem of placing eight queens on an 8×8 chessboard such that none of them attack one >another (no two are in the same row, column, or diagonal). Below is one of the arrangements of an 8 queen solution"
   ]
  },
  {
   "cell_type": "code",
   "execution_count": null,
   "metadata": {
    "collapsed": false,
    "scrolled": true
   },
   "outputs": [],
   "source": [
    "count = 0\n",
    "Lis=[]\n",
    "\n",
    "def canplaceq(x,y):\n",
    "    #check for all columns and diagonals\n",
    "    for i in range(x):\n",
    "        if ((y==Lis[i]) or (abs(x-i)==abs(Lis[i]-y))):\n",
    "            return False\n",
    "    return True\n",
    "\n",
    "def placeq(x,s):\n",
    "    global count\n",
    "    for i in range(s):\n",
    "        if (canplaceq(x,i)):\n",
    "            Lis[x]=i\n",
    "            if (x==s-1):\n",
    "                count+=1\n",
    "            placeq(x+1,s)\n",
    "    \n",
    "def main():\n",
    "    n=input()\n",
    "    #Lis=[]\n",
    "    for i in range(n):\n",
    "        Lis.append(-1)\n",
    "    #print len(Lis)\n",
    "    placeq(0,n)\n",
    "    print count\n",
    "    \n",
    "main()    "
   ]
  },
  {
   "cell_type": "markdown",
   "metadata": {},
   "source": [
    "<img src=\"8queen.jpg\">"
   ]
  },
  {
   "cell_type": "markdown",
   "metadata": {},
   "source": [
    "(13) Write a program to make a list of all prime numbers less than 3000. A prime number can only be divided evenly by 1 and itself."
   ]
  },
  {
   "cell_type": "code",
   "execution_count": null,
   "metadata": {
    "collapsed": false,
    "scrolled": true
   },
   "outputs": [],
   "source": [
    "L=[]\n",
    "c=0\n",
    "n=input()\n",
    "for i in range(2,n):\n",
    "    c=0\n",
    "    for j in range(2,i):\n",
    "        if i%j==0:\n",
    "            c=1\n",
    "            break\n",
    "    if c==0:\n",
    "        L.append(i)\n",
    "\n",
    "print len(L)        "
   ]
  },
  {
   "cell_type": "markdown",
   "metadata": {},
   "source": [
    "(14) Solve the above problem using Set instead of List "
   ]
  },
  {
   "cell_type": "code",
   "execution_count": null,
   "metadata": {
    "collapsed": false
   },
   "outputs": [],
   "source": [
    "S=set()\n",
    "c=0\n",
    "n=input()\n",
    "for i in range(2,n):\n",
    "    c=0\n",
    "    if i not in S:\n",
    "        for j in range(2,i):\n",
    "            if i%j==0:\n",
    "                c=1\n",
    "                break\n",
    "    else:\n",
    "        c=1\n",
    "    \n",
    "    if c==0:\n",
    "        S.add(i)\n",
    "\n",
    "print len(S)"
   ]
  }
 ],
 "metadata": {
  "anaconda-cloud": {},
  "kernelspec": {
   "display_name": "Python [default]",
   "language": "python",
   "name": "python2"
  },
  "language_info": {
   "codemirror_mode": {
    "name": "ipython",
    "version": 2
   },
   "file_extension": ".py",
   "mimetype": "text/x-python",
   "name": "python",
   "nbconvert_exporter": "python",
   "pygments_lexer": "ipython2",
   "version": "2.7.12"
  }
 },
 "nbformat": 4,
 "nbformat_minor": 0
}
